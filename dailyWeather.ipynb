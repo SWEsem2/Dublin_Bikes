{
 "cells": [
  {
   "cell_type": "code",
   "execution_count": 1,
   "metadata": {},
   "outputs": [],
   "source": [
    "import pandas as pd"
   ]
  },
  {
   "cell_type": "code",
   "execution_count": 2,
   "metadata": {},
   "outputs": [],
   "source": [
    "data = pd.read_csv('data/weather_data/daily/dublin 2024-01-01 to 2024-01-31.csv')"
   ]
  },
  {
   "cell_type": "code",
   "execution_count": 3,
   "metadata": {},
   "outputs": [
    {
     "data": {
      "text/plain": [
       "Index(['name', 'datetime', 'tempmax', 'tempmin', 'temp', 'feelslikemax',\n",
       "       'feelslikemin', 'feelslike', 'dew', 'humidity', 'precip', 'precipprob',\n",
       "       'precipcover', 'preciptype', 'snow', 'snowdepth', 'windgust',\n",
       "       'windspeed', 'winddir', 'sealevelpressure', 'cloudcover', 'visibility',\n",
       "       'solarradiation', 'solarenergy', 'uvindex', 'severerisk', 'sunrise',\n",
       "       'sunset', 'moonphase', 'conditions', 'description', 'icon', 'stations'],\n",
       "      dtype='object')"
      ]
     },
     "execution_count": 3,
     "metadata": {},
     "output_type": "execute_result"
    }
   ],
   "source": [
    "data.columns"
   ]
  },
  {
   "cell_type": "code",
   "execution_count": 4,
   "metadata": {},
   "outputs": [],
   "source": [
    "data['datetime'] = pd.to_datetime(data['datetime'])"
   ]
  },
  {
   "cell_type": "code",
   "execution_count": 5,
   "metadata": {},
   "outputs": [
    {
     "name": "stdout",
     "output_type": "stream",
     "text": [
      "               datetime\n",
      "26  2024-01-27 00:00:00\n",
      "27  2024-01-28 00:00:00\n",
      "28  2024-01-29 00:00:00\n",
      "29  2024-01-30 00:00:00\n",
      "30  2024-01-31 00:00:00\n"
     ]
    }
   ],
   "source": [
    "data['datetime'] = data['datetime'].dt.strftime('%Y-%m-%d %H:%M:%S')\n",
    "print(data[['datetime']].tail())"
   ]
  },
  {
   "cell_type": "code",
   "execution_count": 6,
   "metadata": {},
   "outputs": [
    {
     "name": "stdout",
     "output_type": "stream",
     "text": [
      "                sunrise\n",
      "26  2024-01-27 08:18:23\n",
      "27  2024-01-28 08:16:54\n",
      "28  2024-01-29 08:15:22\n",
      "29  2024-01-30 08:13:48\n",
      "30  2024-01-31 08:12:12\n"
     ]
    }
   ],
   "source": [
    "data['sunrise'] = pd.to_datetime(data['sunrise'])\n",
    "data['sunrise'] = data['sunrise'].dt.strftime('%Y-%m-%d %H:%M:%S')\n",
    "print(data[['sunrise']].tail())"
   ]
  },
  {
   "cell_type": "code",
   "execution_count": 7,
   "metadata": {},
   "outputs": [
    {
     "name": "stdout",
     "output_type": "stream",
     "text": [
      "                 sunset\n",
      "26  2024-01-27 16:57:36\n",
      "27  2024-01-28 16:59:30\n",
      "28  2024-01-29 17:01:25\n",
      "29  2024-01-30 17:03:21\n",
      "30  2024-01-31 17:05:17\n"
     ]
    }
   ],
   "source": [
    "data['sunset'] = pd.to_datetime(data['sunset'])\n",
    "data['sunset'] = data['sunset'].dt.strftime('%Y-%m-%d %H:%M:%S')\n",
    "print(data[['sunset']].tail())"
   ]
  },
  {
   "cell_type": "code",
   "execution_count": 8,
   "metadata": {},
   "outputs": [],
   "source": [
    "colums = [\n",
    "    'datetime',\n",
    "    'tempmax',\n",
    "    'tempmin',\n",
    "    'temp',\n",
    "    'windspeed',\n",
    "    'precip',\n",
    "    'visibility',\n",
    "    'humidity',\n",
    "    'uvindex',\n",
    "    'sunrise',\n",
    "    'sunset'\n",
    "]"
   ]
  },
  {
   "cell_type": "code",
   "execution_count": 9,
   "metadata": {},
   "outputs": [],
   "source": [
    "df_sql = data[colums].copy()"
   ]
  },
  {
   "cell_type": "code",
   "execution_count": 10,
   "metadata": {},
   "outputs": [],
   "source": [
    "rename = {\n",
    "    'datetime' : 'time_stamp',\n",
    "    'tempmax' : 'maxtemp_c',\n",
    "    'tempmin' : 'mintemp_c',\n",
    "    'temp' : 'avgtemp_c',\n",
    "    'windspeed' : 'maxwind_kph',\n",
    "    'precip' : 'totalprecip_mm',\n",
    "    'visibility' : 'avgvis_km',\n",
    "    'humidity' : 'avghumidity',\n",
    "    'uvindex' : 'uv',\n",
    "    'sunrise' : 'sunrise',\n",
    "    'sunset' : 'sunset'\n",
    "}"
   ]
  },
  {
   "cell_type": "code",
   "execution_count": 11,
   "metadata": {},
   "outputs": [],
   "source": [
    "df_sql.rename(columns=rename, inplace=True)"
   ]
  },
  {
   "cell_type": "code",
   "execution_count": 12,
   "metadata": {},
   "outputs": [
    {
     "data": {
      "text/plain": [
       "Index(['time_stamp', 'maxtemp_c', 'mintemp_c', 'avgtemp_c', 'maxwind_kph',\n",
       "       'totalprecip_mm', 'avgvis_km', 'avghumidity', 'uv', 'sunrise',\n",
       "       'sunset'],\n",
       "      dtype='object')"
      ]
     },
     "execution_count": 12,
     "metadata": {},
     "output_type": "execute_result"
    }
   ],
   "source": [
    "df_sql.columns"
   ]
  },
  {
   "cell_type": "code",
   "execution_count": 13,
   "metadata": {},
   "outputs": [],
   "source": [
    "duplicates = df_sql.duplicated(keep=False)"
   ]
  },
  {
   "cell_type": "code",
   "execution_count": 14,
   "metadata": {},
   "outputs": [
    {
     "name": "stdout",
     "output_type": "stream",
     "text": [
      "Empty DataFrame\n",
      "Columns: [time_stamp, maxtemp_c, mintemp_c, avgtemp_c, maxwind_kph, totalprecip_mm, avgvis_km, avghumidity, uv, sunrise, sunset]\n",
      "Index: []\n"
     ]
    }
   ],
   "source": [
    "print(df_sql[duplicates])"
   ]
  },
  {
   "cell_type": "code",
   "execution_count": 15,
   "metadata": {},
   "outputs": [],
   "source": [
    "df_sql = df_sql.drop_duplicates()"
   ]
  },
  {
   "cell_type": "code",
   "execution_count": 16,
   "metadata": {},
   "outputs": [
    {
     "name": "stdout",
     "output_type": "stream",
     "text": [
      "Are there any duplicate rows? False\n"
     ]
    }
   ],
   "source": [
    "has_duplicates = duplicates.any()\n",
    "print(\"Are there any duplicate rows?\", has_duplicates)"
   ]
  },
  {
   "cell_type": "code",
   "execution_count": 17,
   "metadata": {},
   "outputs": [],
   "source": [
    "filename = f\"dailyWeather.csv\"\n",
    "df_sql.to_csv(filename, index=False)"
   ]
  },
  {
   "cell_type": "code",
   "execution_count": 20,
   "metadata": {},
   "outputs": [
    {
     "data": {
      "text/plain": [
       "31"
      ]
     },
     "execution_count": 20,
     "metadata": {},
     "output_type": "execute_result"
    }
   ],
   "source": [
    "import pandas as pd\n",
    "from sqlalchemy import create_engine\n",
    "\n",
    "USER = 'musaddique333'\n",
    "PASSWORD = '7483854963Mus#'\n",
    "URL = 'comp3080.cho0moo0yp7i.us-east-1.rds.amazonaws.com'\n",
    "PORT = '3306'\n",
    "DB = 'dublinBikes29'\n",
    "\n",
    "engine = create_engine(f'mysql+pymysql://{USER}:{PASSWORD}@{URL}:{PORT}/{DB}')\n",
    "\n",
    "csv_file_path = 'dailyWeather.csv'\n",
    "df = pd.read_csv(csv_file_path)\n",
    "\n",
    "df['time_stamp'] = pd.to_datetime(df['time_stamp'])\n",
    "df['sunrise'] = pd.to_datetime(df['sunrise'])\n",
    "df['sunset'] = pd.to_datetime(df['sunset'])\n",
    "df.to_sql('dailyWeather', con=engine, if_exists='append', index=False, method='multi')"
   ]
  }
 ],
 "metadata": {
  "kernelspec": {
   "display_name": "comp30830",
   "language": "python",
   "name": "python3"
  },
  "language_info": {
   "codemirror_mode": {
    "name": "ipython",
    "version": 3
   },
   "file_extension": ".py",
   "mimetype": "text/x-python",
   "name": "python",
   "nbconvert_exporter": "python",
   "pygments_lexer": "ipython3",
   "version": "3.12.2"
  }
 },
 "nbformat": 4,
 "nbformat_minor": 2
}
