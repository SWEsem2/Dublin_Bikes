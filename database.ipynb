{
 "cells": [
  {
   "cell_type": "markdown",
   "metadata": {},
   "source": [
    "# Database Creation and Table Management"
   ]
  },
  {
   "cell_type": "markdown",
   "metadata": {},
   "source": [
    "## Importing Libraries"
   ]
  },
  {
   "cell_type": "code",
   "execution_count": 1,
   "metadata": {},
   "outputs": [],
   "source": [
    "import sqlalchemy\n",
    "from sqlalchemy import create_engine\n",
    "from sqlalchemy import text\n",
    "import mysql.connector as mysqlConn"
   ]
  },
  {
   "cell_type": "code",
   "execution_count": 2,
   "metadata": {},
   "outputs": [],
   "source": [
    "#identifier comp3080\n",
    "#username musaddique333\n",
    "#database dublinBikes29"
   ]
  },
  {
   "cell_type": "markdown",
   "metadata": {},
   "source": [
    "## Database Info"
   ]
  },
  {
   "cell_type": "code",
   "execution_count": 3,
   "metadata": {},
   "outputs": [],
   "source": [
    "URL='comp3080.cho0moo0yp7i.us-east-1.rds.amazonaws.com'\n",
    "PORT='3306'\n",
    "DB='dublinBikes29'\n",
    "USER='musaddique333'"
   ]
  },
  {
   "cell_type": "markdown",
   "metadata": {},
   "source": [
    "### Password from keychain"
   ]
  },
  {
   "cell_type": "code",
   "execution_count": 4,
   "metadata": {},
   "outputs": [],
   "source": [
    "from cryptography.fernet import Fernet"
   ]
  },
  {
   "cell_type": "code",
   "execution_count": 5,
   "metadata": {},
   "outputs": [],
   "source": [
    "with open('keys/RDS.key', 'rb') as filekey:\n",
    "    key = filekey.read()\n",
    "with open('keys/RDS.enc', 'rb') as fileenc:\n",
    "    cipher_text = fileenc.read()\n",
    "\n",
    "cipher_suite = Fernet(key)\n",
    "PASSWORD = cipher_suite.decrypt(cipher_text).decode()"
   ]
  },
  {
   "cell_type": "markdown",
   "metadata": {},
   "source": [
    "### Establishing Database Connection"
   ]
  },
  {
   "cell_type": "code",
   "execution_count": null,
   "metadata": {},
   "outputs": [],
   "source": [
    "import mysql.connector"
   ]
  },
  {
   "cell_type": "code",
   "execution_count": null,
   "metadata": {},
   "outputs": [],
   "source": [
    "try:\n",
    "    connection = mysql.connector.connect(\n",
    "        host=URL,\n",
    "        user=USER,\n",
    "        password=PASSWORD,\n",
    "        database=DB\n",
    "    )\n",
    "    if connection.is_connected():\n",
    "        db_Info = connection.get_server_info()\n",
    "        print(f\"Successfully connected to MySQL Server version {db_Info}\")\n",
    "        # Close the connection\n",
    "        connection.close()\n",
    "    else:\n",
    "        print(\"Failed to connect to the database.\")\n",
    "except mysql.connector.Error as e:\n",
    "    print(f\"Error while connecting to MySQL: {e}\")"
   ]
  },
  {
   "cell_type": "code",
   "execution_count": 6,
   "metadata": {},
   "outputs": [],
   "source": [
    "engine=create_engine(f'mysql+mysqldb://{USER}:{PASSWORD}@{URL}:{PORT}/{DB}', echo=True)"
   ]
  },
  {
   "cell_type": "code",
   "execution_count": 7,
   "metadata": {},
   "outputs": [
    {
     "name": "stdout",
     "output_type": "stream",
     "text": [
      "2024-02-23 00:09:29,288 INFO sqlalchemy.engine.Engine SELECT DATABASE()\n",
      "2024-02-23 00:09:29,288 INFO sqlalchemy.engine.Engine [raw sql] ()\n",
      "2024-02-23 00:09:29,505 INFO sqlalchemy.engine.Engine SELECT @@sql_mode\n",
      "2024-02-23 00:09:29,505 INFO sqlalchemy.engine.Engine [raw sql] ()\n",
      "2024-02-23 00:09:29,611 INFO sqlalchemy.engine.Engine SELECT @@lower_case_table_names\n",
      "2024-02-23 00:09:29,611 INFO sqlalchemy.engine.Engine [raw sql] ()\n",
      "2024-02-23 00:09:29,823 INFO sqlalchemy.engine.Engine BEGIN (implicit)\n",
      "2024-02-23 00:09:29,824 INFO sqlalchemy.engine.Engine CREATE DATABASE IF NOT EXISTS dublinbikes29;\n",
      "2024-02-23 00:09:29,824 INFO sqlalchemy.engine.Engine [generated in 0.00094s] ()\n",
      "2024-02-23 00:09:29,932 INFO sqlalchemy.engine.Engine ROLLBACK\n"
     ]
    }
   ],
   "source": [
    "from sqlalchemy import text\n",
    "query = '''CREATE DATABASE IF NOT EXISTS dublinbikes29;'''\n",
    "with engine.connect() as db_conn:\n",
    "     db_conn.execute(text(query))"
   ]
  },
  {
   "cell_type": "markdown",
   "metadata": {},
   "source": [
    "### Creating Static Data Table"
   ]
  },
  {
   "cell_type": "code",
   "execution_count": 8,
   "metadata": {},
   "outputs": [
    {
     "name": "stdout",
     "output_type": "stream",
     "text": [
      "2024-02-23 00:09:30,044 INFO sqlalchemy.engine.Engine BEGIN (implicit)\n",
      "2024-02-23 00:09:30,044 INFO sqlalchemy.engine.Engine DROP TABLE IF EXISTS station;\n",
      "2024-02-23 00:09:30,045 INFO sqlalchemy.engine.Engine [generated in 0.00118s] ()\n",
      "2024-02-23 00:09:30,164 INFO sqlalchemy.engine.Engine CREATE TABLE IF NOT EXISTS station \n",
      "        (ID INTEGER,\n",
      "        contract VARCHAR (256),\n",
      "        name VARCHAR (256),\n",
      "        address VARCHAR (256), \n",
      "        banking INTEGER,\n",
      "        bonus INTEGER,\n",
      "        stands INTEGER,    \n",
      "        position_lat REAL, \n",
      "        position_lng REAL, \n",
      "        status VARCHAR (256))\n",
      "2024-02-23 00:09:30,165 INFO sqlalchemy.engine.Engine [generated in 0.00058s] ()\n",
      "2024-02-23 00:09:30,299 INFO sqlalchemy.engine.Engine ROLLBACK\n",
      "This result object does not return rows. It has been closed automatically.\n"
     ]
    }
   ],
   "source": [
    "query = '''CREATE TABLE IF NOT EXISTS station \n",
    "        (ID INTEGER,\n",
    "        contract VARCHAR (256),\n",
    "        name VARCHAR (256),\n",
    "        address VARCHAR (256), \n",
    "        banking INTEGER,\n",
    "        bonus INTEGER,\n",
    "        stands INTEGER,    \n",
    "        position_lat REAL, \n",
    "        position_lng REAL, \n",
    "        status VARCHAR (256))'''\n",
    "try:\n",
    "  with engine.connect() as db_conn:\n",
    "    res = db_conn.execute(text('DROP TABLE IF EXISTS station;'))\n",
    "    res = db_conn.execute(text(query))\n",
    "    print(res.fetchall())\n",
    "except Exception as e:\n",
    "  print(e)"
   ]
  },
  {
   "cell_type": "markdown",
   "metadata": {},
   "source": [
    "### Creating Dynamic Data Table"
   ]
  },
  {
   "cell_type": "code",
   "execution_count": 9,
   "metadata": {},
   "outputs": [
    {
     "name": "stdout",
     "output_type": "stream",
     "text": [
      "2024-02-23 00:09:30,411 INFO sqlalchemy.engine.Engine BEGIN (implicit)\n",
      "2024-02-23 00:09:30,411 INFO sqlalchemy.engine.Engine DROP TABLE IF EXISTS availability\n",
      "2024-02-23 00:09:30,412 INFO sqlalchemy.engine.Engine [generated in 0.00099s] ()\n",
      "2024-02-23 00:09:30,527 INFO sqlalchemy.engine.Engine CREATE TABLE IF NOT EXISTS availability \n",
      "        (ID INTEGER, \n",
      "        bikes INTEGER, \n",
      "        bike_stands INTEGER, \n",
      "        last_update INTEGER)\n",
      "2024-02-23 00:09:30,528 INFO sqlalchemy.engine.Engine [generated in 0.00040s] ()\n",
      "2024-02-23 00:09:30,658 INFO sqlalchemy.engine.Engine ROLLBACK\n",
      "This result object does not return rows. It has been closed automatically.\n"
     ]
    }
   ],
   "source": [
    "query = '''CREATE TABLE IF NOT EXISTS availability \n",
    "        (ID INTEGER, \n",
    "        bikes INTEGER, \n",
    "        bike_stands INTEGER, \n",
    "        last_update INTEGER)'''\n",
    "try:\n",
    "    with engine.connect() as db_conn:\n",
    "        res = db_conn.execute(text('DROP TABLE IF EXISTS availability'))\n",
    "        res = db_conn.execute(text(query))\n",
    "        print(res.fetchall())\n",
    "except Exception as e:\n",
    "    print(e)"
   ]
  }
 ],
 "metadata": {
  "kernelspec": {
   "display_name": "comp30830",
   "language": "python",
   "name": "python3"
  },
  "language_info": {
   "codemirror_mode": {
    "name": "ipython",
    "version": 3
   },
   "file_extension": ".py",
   "mimetype": "text/x-python",
   "name": "python",
   "nbconvert_exporter": "python",
   "pygments_lexer": "ipython3",
   "version": "3.11.5"
  }
 },
 "nbformat": 4,
 "nbformat_minor": 2
}
