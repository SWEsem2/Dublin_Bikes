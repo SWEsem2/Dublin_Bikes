{
 "cells": [
  {
   "cell_type": "code",
   "execution_count": 1,
   "metadata": {},
   "outputs": [],
   "source": [
    "import sqlalchemy\n",
    "from sqlalchemy import create_engine\n",
    "from sqlalchemy import text\n",
    "import mysql.connector as mysqlConn"
   ]
  },
  {
   "cell_type": "code",
   "execution_count": 2,
   "metadata": {},
   "outputs": [],
   "source": [
    "#identifier comp3080\n",
    "#username musaddique333\n",
    "#database dublinBikes29"
   ]
  },
  {
   "cell_type": "code",
   "execution_count": 3,
   "metadata": {},
   "outputs": [],
   "source": [
    "URL='comp3080.cho0moo0yp7i.us-east-1.rds.amazonaws.com'\n",
    "PORT='3306'\n",
    "DB='dublinBikes29'\n",
    "USER='musaddique333'\n",
    "PASSWORD='7483854963Mus#'"
   ]
  },
  {
   "cell_type": "code",
   "execution_count": 4,
   "metadata": {},
   "outputs": [],
   "source": [
    "engine=create_engine(f'mysql+mysqldb://{USER}:{PASSWORD}@{URL}:{PORT}/{DB}', echo=True)"
   ]
  },
  {
   "cell_type": "code",
   "execution_count": 10,
   "metadata": {},
   "outputs": [
    {
     "name": "stdout",
     "output_type": "stream",
     "text": [
      "2024-02-21 20:02:27,369 INFO sqlalchemy.engine.Engine BEGIN (implicit)\n",
      "2024-02-21 20:02:27,371 INFO sqlalchemy.engine.Engine CREATE DATABASE IF NOT EXISTS dublinbikes29;\n",
      "2024-02-21 20:02:27,371 INFO sqlalchemy.engine.Engine [cached since 398.7s ago] ()\n",
      "2024-02-21 20:02:27,484 INFO sqlalchemy.engine.Engine ROLLBACK\n"
     ]
    }
   ],
   "source": [
    "from sqlalchemy import text\n",
    "query = '''CREATE DATABASE IF NOT EXISTS dublinbikes29;'''\n",
    "with engine.connect() as db_conn:\n",
    "     db_conn.execute(text(query))"
   ]
  },
  {
   "cell_type": "code",
   "execution_count": 6,
   "metadata": {},
   "outputs": [
    {
     "name": "stdout",
     "output_type": "stream",
     "text": [
      "2024-02-21 19:55:48,900 INFO sqlalchemy.engine.Engine BEGIN (implicit)\n",
      "2024-02-21 19:55:48,901 INFO sqlalchemy.engine.Engine DROP TABLE IF EXISTS station;\n",
      "2024-02-21 19:55:48,901 INFO sqlalchemy.engine.Engine [generated in 0.00123s] ()\n",
      "2024-02-21 19:55:49,011 INFO sqlalchemy.engine.Engine CREATE TABLE IF NOT EXISTS station \n",
      "        (address VARCHAR (256), \n",
      "        banking INTEGER, \n",
      "        bike_stands INTEGER, \n",
      "        bonus INTEGER, \n",
      "        contract_name VARCHAR (256), \n",
      "        name VARCHAR (256), \n",
      "        number INTEGER, \n",
      "        position_lat REAL, \n",
      "        position_lng REAL, \n",
      "        status VARCHAR (256))\n",
      "2024-02-21 19:55:49,012 INFO sqlalchemy.engine.Engine [generated in 0.00115s] ()\n",
      "2024-02-21 19:55:49,146 INFO sqlalchemy.engine.Engine ROLLBACK\n",
      "This result object does not return rows. It has been closed automatically.\n"
     ]
    }
   ],
   "source": [
    "query = '''CREATE TABLE IF NOT EXISTS station \n",
    "        (address VARCHAR (256), \n",
    "        banking INTEGER, \n",
    "        bike_stands INTEGER, \n",
    "        bonus INTEGER, \n",
    "        contract_name VARCHAR (256), \n",
    "        name VARCHAR (256), \n",
    "        number INTEGER, \n",
    "        position_lat REAL, \n",
    "        position_lng REAL, \n",
    "        status VARCHAR (256))'''\n",
    "try:\n",
    "  with engine.connect() as db_conn:\n",
    "    res = db_conn.execute(text('DROP TABLE IF EXISTS station;'))\n",
    "    res = db_conn.execute(text(query))\n",
    "    print(res.fetchall())\n",
    "except Exception as e:\n",
    "  print(e)"
   ]
  },
  {
   "cell_type": "code",
   "execution_count": 9,
   "metadata": {},
   "outputs": [
    {
     "name": "stdout",
     "output_type": "stream",
     "text": [
      "2024-02-21 19:58:46,958 INFO sqlalchemy.engine.Engine BEGIN (implicit)\n",
      "2024-02-21 19:58:46,959 INFO sqlalchemy.engine.Engine DROP TABLE IF EXISTS availability\n",
      "2024-02-21 19:58:46,960 INFO sqlalchemy.engine.Engine [generated in 0.00213s] ()\n",
      "2024-02-21 19:58:47,076 INFO sqlalchemy.engine.Engine CREATE TABLE IF NOT EXISTS availability \n",
      "        (number INTEGER, \n",
      "        available_bikes INTEGER, \n",
      "        available_bike_stands INTEGER, \n",
      "        last_update INTEGER)\n",
      "2024-02-21 19:58:47,076 INFO sqlalchemy.engine.Engine [generated in 0.00046s] ()\n",
      "2024-02-21 19:58:47,200 INFO sqlalchemy.engine.Engine ROLLBACK\n",
      "This result object does not return rows. It has been closed automatically.\n"
     ]
    }
   ],
   "source": [
    "query = '''CREATE TABLE IF NOT EXISTS availability \n",
    "        (number INTEGER, \n",
    "        available_bikes INTEGER, \n",
    "        available_bike_stands INTEGER, \n",
    "        last_update INTEGER)'''\n",
    "try:\n",
    "    with engine.connect() as db_conn:\n",
    "        res = db_conn.execute(text('DROP TABLE IF EXISTS availability'))\n",
    "        res = db_conn.execute(text(query))\n",
    "        print(res.fetchall())\n",
    "except Exception as e:\n",
    "    print(e)"
   ]
  }
 ],
 "metadata": {
  "kernelspec": {
   "display_name": "comp30830",
   "language": "python",
   "name": "python3"
  },
  "language_info": {
   "codemirror_mode": {
    "name": "ipython",
    "version": 3
   },
   "file_extension": ".py",
   "mimetype": "text/x-python",
   "name": "python",
   "nbconvert_exporter": "python",
   "pygments_lexer": "ipython3",
   "version": "3.11.5"
  }
 },
 "nbformat": 4,
 "nbformat_minor": 2
}
