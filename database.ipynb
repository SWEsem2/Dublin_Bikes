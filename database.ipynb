{
 "cells": [
  {
   "cell_type": "markdown",
   "metadata": {},
   "source": [
    "# Database Creation and Table Management"
   ]
  },
  {
   "cell_type": "markdown",
   "metadata": {},
   "source": [
    "## Importing Libraries"
   ]
  },
  {
   "cell_type": "code",
   "execution_count": 8,
   "metadata": {},
   "outputs": [],
   "source": [
    "import sqlalchemy\n",
    "from sqlalchemy import create_engine\n",
    "from sqlalchemy import text\n",
    "import mysql.connector as mysqlConn"
   ]
  },
  {
   "cell_type": "code",
   "execution_count": 2,
   "metadata": {},
   "outputs": [],
   "source": [
    "#identifier comp3080\n",
    "#username musaddique333\n",
    "#database dublinBikes29"
   ]
  },
  {
   "cell_type": "markdown",
   "metadata": {},
   "source": [
    "## Database Info"
   ]
  },
  {
   "cell_type": "code",
   "execution_count": 3,
   "metadata": {},
   "outputs": [],
   "source": [
    "URL='comp3080.cho0moo0yp7i.us-east-1.rds.amazonaws.com'\n",
    "PORT='3306'\n",
    "DB='dublinBikes29'\n",
    "USER='musaddique333'\n",
    "PASSWORD='7483854963Mus#'"
   ]
  },
  {
   "cell_type": "code",
   "execution_count": 4,
   "metadata": {},
   "outputs": [],
   "source": [
    "engine=create_engine(f'mysql+mysqldb://{USER}:{PASSWORD}@{URL}:{PORT}/{DB}', echo=True)"
   ]
  },
  {
   "cell_type": "code",
   "execution_count": 1,
   "metadata": {},
   "outputs": [
    {
     "ename": "NameError",
     "evalue": "name 'engine' is not defined",
     "output_type": "error",
     "traceback": [
      "\u001b[0;31m---------------------------------------------------------------------------\u001b[0m",
      "\u001b[0;31mNameError\u001b[0m                                 Traceback (most recent call last)",
      "Cell \u001b[0;32mIn[1], line 3\u001b[0m\n\u001b[1;32m      1\u001b[0m \u001b[38;5;28;01mfrom\u001b[39;00m \u001b[38;5;21;01msqlalchemy\u001b[39;00m \u001b[38;5;28;01mimport\u001b[39;00m text\n\u001b[1;32m      2\u001b[0m query \u001b[38;5;241m=\u001b[39m \u001b[38;5;124m'''\u001b[39m\u001b[38;5;124mCREATE DATABASE IF NOT EXISTS dublinbikes29;\u001b[39m\u001b[38;5;124m'''\u001b[39m\n\u001b[0;32m----> 3\u001b[0m \u001b[38;5;28;01mwith\u001b[39;00m \u001b[43mengine\u001b[49m\u001b[38;5;241m.\u001b[39mconnect() \u001b[38;5;28;01mas\u001b[39;00m db_conn:\n\u001b[1;32m      4\u001b[0m      db_conn\u001b[38;5;241m.\u001b[39mexecute(text(query))\n",
      "\u001b[0;31mNameError\u001b[0m: name 'engine' is not defined"
     ]
    }
   ],
   "source": [
    "from sqlalchemy import text\n",
    "query = '''CREATE DATABASE IF NOT EXISTS dublinbikes29;'''\n",
    "with engine.connect() as db_conn:\n",
    "     db_conn.execute(text(query))"
   ]
  },
  {
   "cell_type": "markdown",
   "metadata": {},
   "source": [
    "### Creating Static Data Table"
   ]
  },
  {
   "cell_type": "code",
   "execution_count": 6,
   "metadata": {},
   "outputs": [
    {
     "name": "stdout",
     "output_type": "stream",
     "text": [
      "2024-02-22 22:49:36,036 INFO sqlalchemy.engine.Engine BEGIN (implicit)\n",
      "2024-02-22 22:49:36,037 INFO sqlalchemy.engine.Engine DROP TABLE IF EXISTS station;\n",
      "2024-02-22 22:49:36,038 INFO sqlalchemy.engine.Engine [generated in 0.00172s] ()\n",
      "2024-02-22 22:49:36,156 INFO sqlalchemy.engine.Engine CREATE TABLE IF NOT EXISTS station \n",
      "        (ID INTEGER,\n",
      "        contract VARCHAR (256),\n",
      "        name VARCHAR (256),\n",
      "        address VARCHAR (256), \n",
      "        banking INTEGER,\n",
      "        bonus INTEGER,\n",
      "        stands INTEGER,    \n",
      "        position_lat REAL, \n",
      "        position_lng REAL, \n",
      "        status VARCHAR (256))\n",
      "2024-02-22 22:49:36,156 INFO sqlalchemy.engine.Engine [generated in 0.00037s] ()\n",
      "2024-02-22 22:49:36,300 INFO sqlalchemy.engine.Engine ROLLBACK\n",
      "This result object does not return rows. It has been closed automatically.\n"
     ]
    }
   ],
   "source": [
    "query = '''CREATE TABLE IF NOT EXISTS station \n",
    "        (ID INTEGER,\n",
    "        contract VARCHAR (256),\n",
    "        name VARCHAR (256),\n",
    "        address VARCHAR (256), \n",
    "        banking INTEGER,\n",
    "        bonus INTEGER,\n",
    "        stands INTEGER,    \n",
    "        position_lat REAL, \n",
    "        position_lng REAL, \n",
    "        status VARCHAR (256))'''\n",
    "try:\n",
    "  with engine.connect() as db_conn:\n",
    "    res = db_conn.execute(text('DROP TABLE IF EXISTS station;'))\n",
    "    res = db_conn.execute(text(query))\n",
    "    print(res.fetchall())\n",
    "except Exception as e:\n",
    "  print(e)"
   ]
  },
  {
   "cell_type": "markdown",
   "metadata": {},
   "source": [
    "### Creating Dynamic Data Table"
   ]
  },
  {
   "cell_type": "code",
   "execution_count": 7,
   "metadata": {},
   "outputs": [
    {
     "name": "stdout",
     "output_type": "stream",
     "text": [
      "2024-02-22 22:49:36,421 INFO sqlalchemy.engine.Engine BEGIN (implicit)\n",
      "2024-02-22 22:49:36,422 INFO sqlalchemy.engine.Engine DROP TABLE IF EXISTS availability\n",
      "2024-02-22 22:49:36,422 INFO sqlalchemy.engine.Engine [generated in 0.00170s] ()\n",
      "2024-02-22 22:49:36,542 INFO sqlalchemy.engine.Engine CREATE TABLE IF NOT EXISTS availability \n",
      "        (ID INTEGER, \n",
      "        bikes INTEGER, \n",
      "        bike_stands INTEGER, \n",
      "        last_update INTEGER)\n",
      "2024-02-22 22:49:36,543 INFO sqlalchemy.engine.Engine [generated in 0.00037s] ()\n",
      "2024-02-22 22:49:36,681 INFO sqlalchemy.engine.Engine ROLLBACK\n",
      "This result object does not return rows. It has been closed automatically.\n"
     ]
    }
   ],
   "source": [
    "query = '''CREATE TABLE IF NOT EXISTS availability \n",
    "        (ID INTEGER, \n",
    "        bikes INTEGER, \n",
    "        bike_stands INTEGER, \n",
    "        last_update INTEGER)'''\n",
    "try:\n",
    "    with engine.connect() as db_conn:\n",
    "        res = db_conn.execute(text('DROP TABLE IF EXISTS availability'))\n",
    "        res = db_conn.execute(text(query))\n",
    "        print(res.fetchall())\n",
    "except Exception as e:\n",
    "    print(e)"
   ]
  }
 ],
 "metadata": {
  "kernelspec": {
   "display_name": "comp30830",
   "language": "python",
   "name": "python3"
  },
  "language_info": {
   "codemirror_mode": {
    "name": "ipython",
    "version": 3
   },
   "file_extension": ".py",
   "mimetype": "text/x-python",
   "name": "python",
   "nbconvert_exporter": "python",
   "pygments_lexer": "ipython3",
   "version": "3.11.5"
  }
 },
 "nbformat": 4,
 "nbformat_minor": 2
}
