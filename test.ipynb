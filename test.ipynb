{
 "cells": [
  {
   "cell_type": "code",
   "execution_count": 1,
   "metadata": {},
   "outputs": [],
   "source": [
    "import pandas as pd\n",
    "\n",
    "data = pd.read_csv('data/static_data.csv')"
   ]
  },
  {
   "cell_type": "code",
   "execution_count": 2,
   "metadata": {},
   "outputs": [
    {
     "data": {
      "text/plain": [
       "Index(['Unnamed: 0', 'ID', 'contract', 'name', 'address', 'banking', 'bonus',\n",
       "       'stands', 'position_lat', 'position_lng', 'status'],\n",
       "      dtype='object')"
      ]
     },
     "execution_count": 2,
     "metadata": {},
     "output_type": "execute_result"
    }
   ],
   "source": [
    "data.columns"
   ]
  },
  {
   "cell_type": "code",
   "execution_count": 3,
   "metadata": {},
   "outputs": [],
   "source": [
    "markers = []\n",
    "for i in range(1):\n",
    "    temp = {}\n",
    "    temp['locationName'] = data.values[3][i]\n",
    "    temp['lat'] = data.values[8][i]\n",
    "    temp['lng'] = data.values[9][i]\n",
    "    temp['address'] = data.values[4][i]\n",
    "    temp['banking'] = data.values[5][i]\n",
    "    temp['bonus'] = data.values[6][i]\n",
    "    temp['stands'] = data.values[7][i]\n",
    "    temp['status'] = data.values[8][i]\n"
   ]
  },
  {
   "cell_type": "code",
   "execution_count": 8,
   "metadata": {},
   "outputs": [
    {
     "data": {
      "text/plain": [
       "array([1, 30, 'dublin', 'PARNELL SQUARE NORTH', 'Parnell Square North', 0,\n",
       "       0, 20, 53.3537415547453, -6.26530144781526, 'OPEN'], dtype=object)"
      ]
     },
     "execution_count": 8,
     "metadata": {},
     "output_type": "execute_result"
    }
   ],
   "source": [
    "data.values[1]"
   ]
  }
 ],
 "metadata": {
  "kernelspec": {
   "display_name": "comp30830",
   "language": "python",
   "name": "python3"
  },
  "language_info": {
   "codemirror_mode": {
    "name": "ipython",
    "version": 3
   },
   "file_extension": ".py",
   "mimetype": "text/x-python",
   "name": "python",
   "nbconvert_exporter": "python",
   "pygments_lexer": "ipython3",
   "version": "3.11.5"
  }
 },
 "nbformat": 4,
 "nbformat_minor": 2
}
