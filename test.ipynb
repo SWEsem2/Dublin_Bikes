{
 "cells": [
  {
   "cell_type": "code",
   "execution_count": 2,
   "metadata": {},
   "outputs": [],
   "source": [
    "import pandas as pd\n",
    "\n",
    "# data = pd.read_csv('data/static_data.csv')"
   ]
  },
  {
   "cell_type": "code",
   "execution_count": null,
   "metadata": {},
   "outputs": [
    {
     "data": {
      "text/plain": [
       "Index(['Unnamed: 0', 'ID', 'contract', 'name', 'address', 'banking', 'bonus',\n",
       "       'stands', 'position_lat', 'position_lng', 'status'],\n",
       "      dtype='object')"
      ]
     },
     "execution_count": 2,
     "metadata": {},
     "output_type": "execute_result"
    }
   ],
   "source": [
    "data.columns"
   ]
  },
  {
   "cell_type": "code",
   "execution_count": null,
   "metadata": {},
   "outputs": [],
   "source": [
    "markers = []\n",
    "for i in range(1):\n",
    "    temp = {}\n",
    "    temp['locationName'] = data.values[3][i]\n",
    "    temp['lat'] = data.values[8][i]\n",
    "    temp['lng'] = data.values[9][i]\n",
    "    temp['address'] = data.values[4][i]\n",
    "    temp['banking'] = data.values[5][i]\n",
    "    temp['bonus'] = data.values[6][i]\n",
    "    temp['stands'] = data.values[7][i]\n",
    "    temp['status'] = data.values[8][i]\n"
   ]
  },
  {
   "cell_type": "code",
   "execution_count": null,
   "metadata": {},
   "outputs": [
    {
     "data": {
      "text/plain": [
       "array([1, 30, 'dublin', 'PARNELL SQUARE NORTH', 'Parnell Square North', 0,\n",
       "       0, 20, 53.3537415547453, -6.26530144781526, 'OPEN'], dtype=object)"
      ]
     },
     "execution_count": 8,
     "metadata": {},
     "output_type": "execute_result"
    }
   ],
   "source": [
    "data.values[1]"
   ]
  },
  {
   "cell_type": "code",
   "execution_count": 6,
   "metadata": {},
   "outputs": [],
   "source": [
    "import requests\n",
    "import json\n",
    "from cryptography.fernet import Fernet\n",
    "import pandas as pd"
   ]
  },
  {
   "cell_type": "code",
   "execution_count": 4,
   "metadata": {},
   "outputs": [],
   "source": [
    "NAME = \"Dublin\"\n",
    "STATIONS = \"https://api.jcdecaux.com/vls/v1/stations\"\n",
    "WEATHER = \"http://api.weatherapi.com/v1/current.json\""
   ]
  },
  {
   "cell_type": "code",
   "execution_count": 7,
   "metadata": {},
   "outputs": [],
   "source": [
    "with open('keys/JCDecaux.key', 'rb') as filekey:\n",
    "    key = filekey.read()\n",
    "with open('keys/JCDecaux.enc', 'rb') as fileenc:\n",
    "    cipher_text = fileenc.read()\n",
    "cipher_suite = Fernet(key)\n",
    "API_KEY = cipher_suite.decrypt(cipher_text).decode()"
   ]
  },
  {
   "cell_type": "code",
   "execution_count": 8,
   "metadata": {},
   "outputs": [],
   "source": [
    "response = requests.get(STATIONS, params={\"apiKey\": API_KEY, \"contract\": NAME})\n",
    "response.raise_for_status()\n",
    "\n",
    "data1 = response.text\n",
    "data1 = json.loads(data1)\n",
    "data1 = pd.json_normalize(data1)"
   ]
  },
  {
   "cell_type": "code",
   "execution_count": 9,
   "metadata": {},
   "outputs": [],
   "source": [
    "response = requests.get(WEATHER, params={\"key\": \"1afd61b9571f4d8a8f7133239242702\", \"q\": '53.3510857,-6.2529918'})\n",
    "response.raise_for_status()\n",
    "\n",
    "data2 = response.text\n",
    "data2 = json.loads(data2)\n",
    "data2 = pd.json_normalize(data2)"
   ]
  },
  {
   "cell_type": "code",
   "execution_count": 10,
   "metadata": {},
   "outputs": [
    {
     "data": {
      "text/html": [
       "<div>\n",
       "<style scoped>\n",
       "    .dataframe tbody tr th:only-of-type {\n",
       "        vertical-align: middle;\n",
       "    }\n",
       "\n",
       "    .dataframe tbody tr th {\n",
       "        vertical-align: top;\n",
       "    }\n",
       "\n",
       "    .dataframe thead th {\n",
       "        text-align: right;\n",
       "    }\n",
       "</style>\n",
       "<table border=\"1\" class=\"dataframe\">\n",
       "  <thead>\n",
       "    <tr style=\"text-align: right;\">\n",
       "      <th></th>\n",
       "      <th>number</th>\n",
       "      <th>contract_name</th>\n",
       "      <th>name</th>\n",
       "      <th>address</th>\n",
       "      <th>banking</th>\n",
       "      <th>bonus</th>\n",
       "      <th>bike_stands</th>\n",
       "      <th>available_bike_stands</th>\n",
       "      <th>available_bikes</th>\n",
       "      <th>status</th>\n",
       "      <th>last_update</th>\n",
       "      <th>position.lat</th>\n",
       "      <th>position.lng</th>\n",
       "    </tr>\n",
       "  </thead>\n",
       "  <tbody>\n",
       "    <tr>\n",
       "      <th>0</th>\n",
       "      <td>42</td>\n",
       "      <td>dublin</td>\n",
       "      <td>SMITHFIELD NORTH</td>\n",
       "      <td>Smithfield North</td>\n",
       "      <td>False</td>\n",
       "      <td>False</td>\n",
       "      <td>30</td>\n",
       "      <td>10</td>\n",
       "      <td>20</td>\n",
       "      <td>OPEN</td>\n",
       "      <td>1709166611000</td>\n",
       "      <td>53.349562</td>\n",
       "      <td>-6.278198</td>\n",
       "    </tr>\n",
       "    <tr>\n",
       "      <th>1</th>\n",
       "      <td>30</td>\n",
       "      <td>dublin</td>\n",
       "      <td>PARNELL SQUARE NORTH</td>\n",
       "      <td>Parnell Square North</td>\n",
       "      <td>False</td>\n",
       "      <td>False</td>\n",
       "      <td>20</td>\n",
       "      <td>17</td>\n",
       "      <td>3</td>\n",
       "      <td>OPEN</td>\n",
       "      <td>1709166613000</td>\n",
       "      <td>53.353742</td>\n",
       "      <td>-6.265301</td>\n",
       "    </tr>\n",
       "    <tr>\n",
       "      <th>2</th>\n",
       "      <td>54</td>\n",
       "      <td>dublin</td>\n",
       "      <td>CLONMEL STREET</td>\n",
       "      <td>Clonmel Street</td>\n",
       "      <td>False</td>\n",
       "      <td>False</td>\n",
       "      <td>33</td>\n",
       "      <td>32</td>\n",
       "      <td>1</td>\n",
       "      <td>OPEN</td>\n",
       "      <td>1709166686000</td>\n",
       "      <td>53.336021</td>\n",
       "      <td>-6.262980</td>\n",
       "    </tr>\n",
       "    <tr>\n",
       "      <th>3</th>\n",
       "      <td>108</td>\n",
       "      <td>dublin</td>\n",
       "      <td>AVONDALE ROAD</td>\n",
       "      <td>Avondale Road</td>\n",
       "      <td>False</td>\n",
       "      <td>False</td>\n",
       "      <td>35</td>\n",
       "      <td>16</td>\n",
       "      <td>19</td>\n",
       "      <td>OPEN</td>\n",
       "      <td>1709166614000</td>\n",
       "      <td>53.359405</td>\n",
       "      <td>-6.276142</td>\n",
       "    </tr>\n",
       "    <tr>\n",
       "      <th>4</th>\n",
       "      <td>20</td>\n",
       "      <td>dublin</td>\n",
       "      <td>JAMES STREET EAST</td>\n",
       "      <td>James Street East</td>\n",
       "      <td>False</td>\n",
       "      <td>False</td>\n",
       "      <td>30</td>\n",
       "      <td>30</td>\n",
       "      <td>0</td>\n",
       "      <td>OPEN</td>\n",
       "      <td>1709166709000</td>\n",
       "      <td>53.336597</td>\n",
       "      <td>-6.248109</td>\n",
       "    </tr>\n",
       "  </tbody>\n",
       "</table>\n",
       "</div>"
      ],
      "text/plain": [
       "   number contract_name                  name               address  banking  \\\n",
       "0      42        dublin      SMITHFIELD NORTH      Smithfield North    False   \n",
       "1      30        dublin  PARNELL SQUARE NORTH  Parnell Square North    False   \n",
       "2      54        dublin        CLONMEL STREET        Clonmel Street    False   \n",
       "3     108        dublin         AVONDALE ROAD         Avondale Road    False   \n",
       "4      20        dublin     JAMES STREET EAST     James Street East    False   \n",
       "\n",
       "   bonus  bike_stands  available_bike_stands  available_bikes status  \\\n",
       "0  False           30                     10               20   OPEN   \n",
       "1  False           20                     17                3   OPEN   \n",
       "2  False           33                     32                1   OPEN   \n",
       "3  False           35                     16               19   OPEN   \n",
       "4  False           30                     30                0   OPEN   \n",
       "\n",
       "     last_update  position.lat  position.lng  \n",
       "0  1709166611000     53.349562     -6.278198  \n",
       "1  1709166613000     53.353742     -6.265301  \n",
       "2  1709166686000     53.336021     -6.262980  \n",
       "3  1709166614000     53.359405     -6.276142  \n",
       "4  1709166709000     53.336597     -6.248109  "
      ]
     },
     "execution_count": 10,
     "metadata": {},
     "output_type": "execute_result"
    }
   ],
   "source": [
    "data1.head()"
   ]
  },
  {
   "cell_type": "code",
   "execution_count": 11,
   "metadata": {},
   "outputs": [
    {
     "data": {
      "text/html": [
       "<div>\n",
       "<style scoped>\n",
       "    .dataframe tbody tr th:only-of-type {\n",
       "        vertical-align: middle;\n",
       "    }\n",
       "\n",
       "    .dataframe tbody tr th {\n",
       "        vertical-align: top;\n",
       "    }\n",
       "\n",
       "    .dataframe thead th {\n",
       "        text-align: right;\n",
       "    }\n",
       "</style>\n",
       "<table border=\"1\" class=\"dataframe\">\n",
       "  <thead>\n",
       "    <tr style=\"text-align: right;\">\n",
       "      <th></th>\n",
       "      <th>location.name</th>\n",
       "      <th>location.region</th>\n",
       "      <th>location.country</th>\n",
       "      <th>location.lat</th>\n",
       "      <th>location.lon</th>\n",
       "      <th>location.tz_id</th>\n",
       "      <th>location.localtime_epoch</th>\n",
       "      <th>location.localtime</th>\n",
       "      <th>current.last_updated_epoch</th>\n",
       "      <th>current.last_updated</th>\n",
       "      <th>...</th>\n",
       "      <th>current.precip_in</th>\n",
       "      <th>current.humidity</th>\n",
       "      <th>current.cloud</th>\n",
       "      <th>current.feelslike_c</th>\n",
       "      <th>current.feelslike_f</th>\n",
       "      <th>current.vis_km</th>\n",
       "      <th>current.vis_miles</th>\n",
       "      <th>current.uv</th>\n",
       "      <th>current.gust_mph</th>\n",
       "      <th>current.gust_kph</th>\n",
       "    </tr>\n",
       "  </thead>\n",
       "  <tbody>\n",
       "    <tr>\n",
       "      <th>0</th>\n",
       "      <td>Dublin</td>\n",
       "      <td>Dublin</td>\n",
       "      <td>Ireland</td>\n",
       "      <td>53.35</td>\n",
       "      <td>-6.25</td>\n",
       "      <td>Europe/Dublin</td>\n",
       "      <td>1709166885</td>\n",
       "      <td>2024-02-29 0:34</td>\n",
       "      <td>1709166600</td>\n",
       "      <td>2024-02-29 00:30</td>\n",
       "      <td>...</td>\n",
       "      <td>0.0</td>\n",
       "      <td>81</td>\n",
       "      <td>75</td>\n",
       "      <td>5.6</td>\n",
       "      <td>42.2</td>\n",
       "      <td>10.0</td>\n",
       "      <td>6.0</td>\n",
       "      <td>1.0</td>\n",
       "      <td>24.4</td>\n",
       "      <td>39.2</td>\n",
       "    </tr>\n",
       "  </tbody>\n",
       "</table>\n",
       "<p>1 rows × 33 columns</p>\n",
       "</div>"
      ],
      "text/plain": [
       "  location.name location.region location.country  location.lat  location.lon  \\\n",
       "0        Dublin          Dublin          Ireland         53.35         -6.25   \n",
       "\n",
       "  location.tz_id  location.localtime_epoch location.localtime  \\\n",
       "0  Europe/Dublin                1709166885    2024-02-29 0:34   \n",
       "\n",
       "   current.last_updated_epoch current.last_updated  ...  current.precip_in  \\\n",
       "0                  1709166600     2024-02-29 00:30  ...                0.0   \n",
       "\n",
       "   current.humidity  current.cloud current.feelslike_c current.feelslike_f  \\\n",
       "0                81             75                 5.6                42.2   \n",
       "\n",
       "   current.vis_km  current.vis_miles  current.uv  current.gust_mph  \\\n",
       "0            10.0                6.0         1.0              24.4   \n",
       "\n",
       "  current.gust_kph  \n",
       "0             39.2  \n",
       "\n",
       "[1 rows x 33 columns]"
      ]
     },
     "execution_count": 11,
     "metadata": {},
     "output_type": "execute_result"
    }
   ],
   "source": [
    "data2.head()"
   ]
  },
  {
   "cell_type": "code",
   "execution_count": 12,
   "metadata": {},
   "outputs": [
    {
     "data": {
      "text/plain": [
       "Index(['location.name', 'location.region', 'location.country', 'location.lat',\n",
       "       'location.lon', 'location.tz_id', 'location.localtime_epoch',\n",
       "       'location.localtime', 'current.last_updated_epoch',\n",
       "       'current.last_updated', 'current.temp_c', 'current.temp_f',\n",
       "       'current.is_day', 'current.condition.text', 'current.condition.icon',\n",
       "       'current.condition.code', 'current.wind_mph', 'current.wind_kph',\n",
       "       'current.wind_degree', 'current.wind_dir', 'current.pressure_mb',\n",
       "       'current.pressure_in', 'current.precip_mm', 'current.precip_in',\n",
       "       'current.humidity', 'current.cloud', 'current.feelslike_c',\n",
       "       'current.feelslike_f', 'current.vis_km', 'current.vis_miles',\n",
       "       'current.uv', 'current.gust_mph', 'current.gust_kph'],\n",
       "      dtype='object')"
      ]
     },
     "execution_count": 12,
     "metadata": {},
     "output_type": "execute_result"
    }
   ],
   "source": [
    "data2.columns"
   ]
  },
  {
   "cell_type": "code",
   "execution_count": 17,
   "metadata": {},
   "outputs": [
    {
     "data": {
      "text/plain": [
       "0    1709166600\n",
       "Name: current.last_updated_epoch, dtype: int64"
      ]
     },
     "execution_count": 17,
     "metadata": {},
     "output_type": "execute_result"
    }
   ],
   "source": [
    "data2['current.last_updated_epoch']"
   ]
  },
  {
   "cell_type": "markdown",
   "metadata": {},
   "source": []
  },
  {
   "cell_type": "code",
   "execution_count": null,
   "metadata": {},
   "outputs": [],
   "source": [
    "current.feelslike_c,\n",
    "current.cloud,\n",
    "current.humidity,\n",
    "current.precip_in,\n",
    "current.pressure_in,\n",
    "current.wind_kph,\n",
    "current.condition.icon,\n",
    "current.condition.text,\n"
   ]
  },
  {
   "cell_type": "code",
   "execution_count": null,
   "metadata": {},
   "outputs": [],
   "source": []
  }
 ],
 "metadata": {
  "kernelspec": {
   "display_name": "comp30830",
   "language": "python",
   "name": "python3"
  },
  "language_info": {
   "codemirror_mode": {
    "name": "ipython",
    "version": 3
   },
   "file_extension": ".py",
   "mimetype": "text/x-python",
   "name": "python",
   "nbconvert_exporter": "python",
   "pygments_lexer": "ipython3",
   "version": "3.12.2"
  }
 },
 "nbformat": 4,
 "nbformat_minor": 2
}
