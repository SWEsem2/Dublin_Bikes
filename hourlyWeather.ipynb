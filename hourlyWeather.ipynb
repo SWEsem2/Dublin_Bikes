{
 "cells": [
  {
   "cell_type": "code",
   "execution_count": 1,
   "metadata": {},
   "outputs": [],
   "source": [
    "import pandas as pd"
   ]
  },
  {
   "cell_type": "code",
   "execution_count": 2,
   "metadata": {},
   "outputs": [],
   "source": [
    "data = pd.read_csv('data/weather_data/hourly/dublin 2024-02-01 to 2024-02-29.csv')"
   ]
  },
  {
   "cell_type": "code",
   "execution_count": 3,
   "metadata": {},
   "outputs": [
    {
     "data": {
      "text/plain": [
       "Index(['name', 'datetime', 'temp', 'feelslike', 'dew', 'humidity', 'precip',\n",
       "       'precipprob', 'preciptype', 'snow', 'snowdepth', 'windgust',\n",
       "       'windspeed', 'winddir', 'sealevelpressure', 'cloudcover', 'visibility',\n",
       "       'solarradiation', 'solarenergy', 'uvindex', 'severerisk', 'conditions',\n",
       "       'icon', 'stations'],\n",
       "      dtype='object')"
      ]
     },
     "execution_count": 3,
     "metadata": {},
     "output_type": "execute_result"
    }
   ],
   "source": [
    "data.columns"
   ]
  },
  {
   "cell_type": "code",
   "execution_count": 4,
   "metadata": {},
   "outputs": [],
   "source": [
    "data['datetime'] = pd.to_datetime(data['datetime'])"
   ]
  },
  {
   "cell_type": "code",
   "execution_count": 5,
   "metadata": {},
   "outputs": [
    {
     "name": "stdout",
     "output_type": "stream",
     "text": [
      "                 datetime\n",
      "1435  2024-02-29 19:00:00\n",
      "1436  2024-02-29 20:00:00\n",
      "1437  2024-02-29 21:00:00\n",
      "1438  2024-02-29 22:00:00\n",
      "1439  2024-02-29 23:00:00\n"
     ]
    }
   ],
   "source": [
    "data['datetime'] = data['datetime'].dt.strftime('%Y-%m-%d %H:%M:%S')\n",
    "print(data[['datetime']].tail())"
   ]
  },
  {
   "cell_type": "code",
   "execution_count": null,
   "metadata": {},
   "outputs": [],
   "source": []
  },
  {
   "cell_type": "code",
   "execution_count": 6,
   "metadata": {},
   "outputs": [],
   "source": [
    "colums = [\n",
    "    'datetime',\n",
    "    'temp',\n",
    "    'feelslike',\n",
    "    'windspeed',\n",
    "    'humidity',\n",
    "    'precip',\n",
    "    'windgust',\n",
    "    'winddir',\n",
    "    'sealevelpressure',\n",
    "    'cloudcover',\n",
    "    'uvindex'\n",
    "]"
   ]
  },
  {
   "cell_type": "code",
   "execution_count": 7,
   "metadata": {},
   "outputs": [],
   "source": [
    "df_sql = data[colums].copy()"
   ]
  },
  {
   "cell_type": "code",
   "execution_count": 8,
   "metadata": {},
   "outputs": [],
   "source": [
    "rename = {\n",
    "    'datetime' : 'time_stamp',\n",
    "    'temp' : 'temp_c',\n",
    "    'feelslike' : 'feelslike_c',\n",
    "    'windspeed' : 'wind_kph',\n",
    "    'humidity' : 'humidity',\n",
    "    'precip' : 'precip_mm',\n",
    "    'windgust' : 'gust_kph',\n",
    "    'winddir' : 'wind_degree',\n",
    "    'sealevelpressure' : 'pressure_mb',\n",
    "    'cloudcover' : 'cloud',\n",
    "    'uvindex' : 'uv'\n",
    "}"
   ]
  },
  {
   "cell_type": "code",
   "execution_count": 9,
   "metadata": {},
   "outputs": [],
   "source": [
    "df_sql.rename(columns=rename, inplace=True)"
   ]
  },
  {
   "cell_type": "code",
   "execution_count": 10,
   "metadata": {},
   "outputs": [
    {
     "data": {
      "text/plain": [
       "Index(['time_stamp', 'temp_c', 'feelslike_c', 'wind_kph', 'humidity',\n",
       "       'precip_mm', 'gust_kph', 'wind_degree', 'pressure_mb', 'cloud', 'uv'],\n",
       "      dtype='object')"
      ]
     },
     "execution_count": 10,
     "metadata": {},
     "output_type": "execute_result"
    }
   ],
   "source": [
    "df_sql.columns"
   ]
  },
  {
   "cell_type": "code",
   "execution_count": 11,
   "metadata": {},
   "outputs": [],
   "source": [
    "duplicates = df_sql.duplicated(keep=False)"
   ]
  },
  {
   "cell_type": "code",
   "execution_count": 12,
   "metadata": {},
   "outputs": [
    {
     "name": "stdout",
     "output_type": "stream",
     "text": [
      "Empty DataFrame\n",
      "Columns: [time_stamp, temp_c, feelslike_c, wind_kph, humidity, precip_mm, gust_kph, wind_degree, pressure_mb, cloud, uv]\n",
      "Index: []\n"
     ]
    }
   ],
   "source": [
    "print(df_sql[duplicates])"
   ]
  },
  {
   "cell_type": "code",
   "execution_count": 13,
   "metadata": {},
   "outputs": [],
   "source": [
    "df_sql = df_sql.drop_duplicates()"
   ]
  },
  {
   "cell_type": "code",
   "execution_count": 14,
   "metadata": {},
   "outputs": [
    {
     "name": "stdout",
     "output_type": "stream",
     "text": [
      "Are there any duplicate rows? False\n"
     ]
    }
   ],
   "source": [
    "has_duplicates = duplicates.any()\n",
    "print(\"Are there any duplicate rows?\", has_duplicates)"
   ]
  },
  {
   "cell_type": "code",
   "execution_count": 15,
   "metadata": {},
   "outputs": [],
   "source": [
    "filename = f\"hourlyWeather.csv\"\n",
    "df_sql.to_csv(filename, index=False)"
   ]
  },
  {
   "cell_type": "code",
   "execution_count": 17,
   "metadata": {},
   "outputs": [
    {
     "data": {
      "text/plain": [
       "696"
      ]
     },
     "execution_count": 17,
     "metadata": {},
     "output_type": "execute_result"
    }
   ],
   "source": [
    "import pandas as pd\n",
    "from sqlalchemy import create_engine\n",
    "\n",
    "USER = 'musaddique333'\n",
    "PASSWORD = '7483854963Mus#'\n",
    "URL = 'comp3080.cho0moo0yp7i.us-east-1.rds.amazonaws.com'\n",
    "PORT = '3306'\n",
    "DB = 'dublinBikes29'\n",
    "\n",
    "engine = create_engine(f'mysql+pymysql://{USER}:{PASSWORD}@{URL}:{PORT}/{DB}')\n",
    "\n",
    "csv_file_path = 'hourlyWeather.csv'\n",
    "df = pd.read_csv(csv_file_path)\n",
    "\n",
    "df['time_stamp'] = pd.to_datetime(df['time_stamp'])\n",
    "df.to_sql('hourlyWeather', con=engine, if_exists='append', index=False, method='multi')"
   ]
  }
 ],
 "metadata": {
  "kernelspec": {
   "display_name": "comp30830",
   "language": "python",
   "name": "python3"
  },
  "language_info": {
   "codemirror_mode": {
    "name": "ipython",
    "version": 3
   },
   "file_extension": ".py",
   "mimetype": "text/x-python",
   "name": "python",
   "nbconvert_exporter": "python",
   "pygments_lexer": "ipython3",
   "version": "3.12.2"
  }
 },
 "nbformat": 4,
 "nbformat_minor": 2
}
